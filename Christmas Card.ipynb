{
 "cells": [
  {
   "cell_type": "code",
   "execution_count": 1,
   "id": "75e9b210",
   "metadata": {},
   "outputs": [
    {
     "name": "stdout",
     "output_type": "stream",
     "text": [
      "pygame 2.1.2 (SDL 2.0.18, Python 3.9.12)\n",
      "Hello from the pygame community. https://www.pygame.org/contribute.html\n"
     ]
    }
   ],
   "source": [
    "import pygame\n",
    "pygame.init()\n",
    "\n",
    "WIDTH = 500\n",
    "HEIGHT = 700\n",
    "\n",
    "surface=pygame.display.set_mode((WIDTH, HEIGHT))\n",
    "pygame.display.set_caption(\"Merry Christmas\")\n",
    "\n",
    "background=pygame.transform.scale(pygame.image.load(\"snow.webp\"),(WIDTH, HEIGHT))\n",
    "tree=pygame.transform.scale(pygame.image.load(\"tree.png\"),(300, 400))\n",
    "merry=pygame.transform.scale(pygame.image.load(\"merry.png\"),(400,300))\n",
    "\n",
    "x=0\n",
    "y=0\n",
    "\n",
    "x1=90\n",
    "y1=300\n",
    "\n",
    "x2=30\n",
    "y2=0\n",
    "\n",
    "surface.blit(background,(x,y))\n",
    "surface.blit(tree,(x1,y1))\n",
    "surface.blit(merry,(x2,y2))\n",
    "\n",
    "pygame.display.flip()\n",
    "\n",
    "from pygame import mixer\n",
    "mixer.init()\n",
    "\n",
    "mixer.music.load(\"wewishyou.mp3\")\n",
    "\n",
    "mixer.music.set_volume(0.6)\n",
    "\n",
    "mixer.music.play()\n",
    "\n",
    "active=True\n",
    "while active:\n",
    "    for event in pygame.event.get():\n",
    "        if event.type==pygame.QUIT:\n",
    "            active=False\n",
    "pygame.quit()"
   ]
  },
  {
   "cell_type": "code",
   "execution_count": null,
   "id": "6bb918b6",
   "metadata": {},
   "outputs": [],
   "source": []
  }
 ],
 "metadata": {
  "kernelspec": {
   "display_name": "Python 3 (ipykernel)",
   "language": "python",
   "name": "python3"
  },
  "language_info": {
   "codemirror_mode": {
    "name": "ipython",
    "version": 3
   },
   "file_extension": ".py",
   "mimetype": "text/x-python",
   "name": "python",
   "nbconvert_exporter": "python",
   "pygments_lexer": "ipython3",
   "version": "3.9.12"
  }
 },
 "nbformat": 4,
 "nbformat_minor": 5
}
